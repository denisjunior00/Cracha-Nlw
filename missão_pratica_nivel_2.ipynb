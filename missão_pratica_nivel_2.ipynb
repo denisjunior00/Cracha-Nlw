{
  "nbformat": 4,
  "nbformat_minor": 0,
  "metadata": {
    "colab": {
      "provenance": [],
      "authorship_tag": "ABX9TyO2X9OnyuFZtWAPdEMq9hQ7",
      "include_colab_link": true
    },
    "kernelspec": {
      "name": "python3",
      "display_name": "Python 3"
    },
    "language_info": {
      "name": "python"
    }
  },
  "cells": [
    {
      "cell_type": "markdown",
      "metadata": {
        "id": "view-in-github",
        "colab_type": "text"
      },
      "source": [
        "<a href=\"https://colab.research.google.com/github/denisjunior00/Cracha-Nlw/blob/main/miss%C3%A3o_pratica_nivel_2.ipynb\" target=\"_parent\"><img src=\"https://colab.research.google.com/assets/colab-badge.svg\" alt=\"Open In Colab\"/></a>"
      ]
    },
    {
      "cell_type": "code",
      "execution_count": 6,
      "metadata": {
        "colab": {
          "base_uri": "https://localhost:8080/",
          "height": 53
        },
        "id": "r0MdrErv6Ji4",
        "outputId": "853a78e1-f350-4aa2-b772-9458b341d34f"
      },
      "outputs": [
        {
          "name": "stdout",
          "output_type": "stream",
          "text": [
            "Digite um numero positivo inteiro: 12\n"
          ]
        },
        {
          "output_type": "execute_result",
          "data": {
            "text/plain": [
              "'1100'"
            ],
            "application/vnd.google.colaboratory.intrinsic+json": {
              "type": "string"
            }
          },
          "metadata": {},
          "execution_count": 6
        }
      ],
      "source": [
        "n = int(input(\"Digite um numero positivo inteiro: \"))\n",
        "def binario_int(n):\n",
        "    if n == 0:\n",
        "      return '0'\n",
        "    else:\n",
        "      binario = ''\n",
        "      while n > 1:\n",
        "        resto = n%2\n",
        "        n = int(n/2)\n",
        "        binario += str(resto)\n",
        "      binario += '1'\n",
        "    return binario[-1::-1]\n",
        "binario_int(n)"
      ]
    }
  ]
}